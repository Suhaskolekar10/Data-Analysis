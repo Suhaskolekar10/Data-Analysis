{
  "nbformat": 4,
  "nbformat_minor": 0,
  "metadata": {
    "colab": {
      "provenance": []
    },
    "kernelspec": {
      "name": "python3",
      "display_name": "Python 3"
    },
    "language_info": {
      "name": "python"
    }
  },
  "cells": [
    {
      "cell_type": "markdown",
      "source": [
        "\n",
        "# 🧩 Python Sets — Complete Guide\n",
        "\n",
        "A **set** is an **unordered, mutable collection of unique elements**.\n",
        "\n",
        "```python\n",
        "my_set = {1, 2, 3}\n",
        "```\n",
        "\n",
        "---\n",
        "\n",
        "## 🔹 Key Properties\n",
        "\n",
        "| Property          | Description                      |\n",
        "| ----------------- | -------------------------------- |\n",
        "| **Unordered**     | No guaranteed order of elements  |\n",
        "| **Mutable**       | Can add/remove elements          |\n",
        "| **No Duplicates** | Automatically removes duplicates |\n",
        "| **Iterable**      | Can loop through items           |\n",
        "\n",
        "---\n",
        "\n",
        "## 🔸 Creating Sets\n",
        "\n",
        "```python\n",
        "s1 = {1, 2, 3}\n",
        "s2 = set([4, 5, 6])  # From list\n",
        "s3 = set(\"hello\")    # From string → {'h', 'e', 'l', 'o'}\n",
        "empty = set()        # ✅ Correct way (not `{}` which is a dict)\n",
        "```\n",
        "\n",
        "---\n",
        "\n",
        "## 🔸 Accessing Elements\n",
        "\n",
        "You **can't access elements by index** (unordered):\n",
        "\n",
        "```python\n",
        "for item in s1:\n",
        "    print(item)\n",
        "```\n",
        "\n",
        "---\n",
        "\n",
        "## 🔸 Set Methods\n",
        "\n",
        "| Method             | Description                        |\n",
        "| ------------------ | ---------------------------------- |\n",
        "| `add(x)`           | Adds element `x`                   |\n",
        "| `update(iterable)` | Adds multiple elements             |\n",
        "| `remove(x)`        | Removes `x`; error if not found    |\n",
        "| `discard(x)`       | Removes `x`; no error if missing   |\n",
        "| `pop()`            | Removes and returns random element |\n",
        "| `clear()`          | Removes all elements               |\n",
        "| `copy()`           | Shallow copy of set                |\n",
        "\n",
        "```python\n",
        "s = {1, 2}\n",
        "s.add(3)\n",
        "s.update([4, 5])\n",
        "s.remove(2)\n",
        "s.discard(10)  # No error\n",
        "```\n",
        "\n",
        "---\n",
        "\n",
        "## 🔹 Set Operations (🔥 Powerful Feature)\n",
        "\n",
        "| Operation                | Syntax                              | Example                     |                     |\n",
        "| ------------------------ | ----------------------------------- | --------------------------- | ------------------- |\n",
        "| **Union**                | \\`a                                 | b`or`a.union(b)\\`           | All unique elements |\n",
        "| **Intersection**         | `a & b` or `a.intersection(b)`      | Common elements             |                     |\n",
        "| **Difference**           | `a - b`                             | Items in `a` but not `b`    |                     |\n",
        "| **Symmetric Difference** | `a ^ b`                             | Unique to either `a` or `b` |                     |\n",
        "| **Subset/Superset**      | `a.issubset(b)` / `a.issuperset(b)` | Relationship check          |                     |\n",
        "\n",
        "```python\n",
        "a = {1, 2, 3}\n",
        "b = {2, 3, 4}\n",
        "print(a | b)  # {1, 2, 3, 4}\n",
        "print(a & b)  # {2, 3}\n",
        "print(a - b)  # {1}\n",
        "```\n",
        "\n",
        "---\n",
        "\n",
        "## 🔹 Membership Test (Very Fast)\n",
        "\n",
        "```python\n",
        "s = {10, 20, 30}\n",
        "print(20 in s)     # True\n",
        "print(40 not in s) # True\n",
        "```\n",
        "\n",
        "---\n",
        "\n",
        "## 🔹 Set Comprehension\n",
        "\n",
        "```python\n",
        "squares = {x**2 for x in range(1, 6)}\n",
        "print(squares)  # {1, 4, 9, 16, 25}\n",
        "```\n",
        "\n",
        "---\n",
        "\n",
        "## ⚠️ What Sets Don’t Support\n",
        "\n",
        "* Indexing (no `s[0]`)\n",
        "* Duplicate elements\n",
        "* Mutable elements inside (no lists/dicts inside sets)\n",
        "\n",
        "---\n",
        "\n",
        "## 🧠 Use-Cases in Data Science\n",
        "\n",
        "* Removing duplicates from a list or column\n",
        "* Performing set operations on datasets (like matching user IDs)\n",
        "* Fast lookup (hash table-based)\n",
        "* Feature engineering (e.g., creating sets of tags/labels)\n",
        "\n"
      ],
      "metadata": {
        "id": "e8KXRuVJARoK"
      }
    },
    {
      "cell_type": "markdown",
      "source": [
        "## 🧪 Mini Challenges:"
      ],
      "metadata": {
        "id": "J9PqN24xA_Xb"
      }
    },
    {
      "cell_type": "code",
      "source": [
        "# 1. Create a set of 5 unique values\n",
        "\n",
        "s = {1,2,3,4,5}\n",
        "\n",
        "print(s)\n"
      ],
      "metadata": {
        "colab": {
          "base_uri": "https://localhost:8080/"
        },
        "id": "mBxmkn8xA2E2",
        "outputId": "11232265-785c-40f7-b1f2-a84a24fc1ef7"
      },
      "execution_count": 1,
      "outputs": [
        {
          "output_type": "stream",
          "name": "stdout",
          "text": [
            "{1, 2, 3, 4, 5}\n"
          ]
        }
      ]
    },
    {
      "cell_type": "code",
      "source": [
        "# 2. Add a new value and remove an existing one\n",
        "\n",
        "s.add(6)\n",
        "\n",
        "s.discard(4)\n",
        "\n",
        "print(s)\n"
      ],
      "metadata": {
        "colab": {
          "base_uri": "https://localhost:8080/"
        },
        "id": "97s3I3UBBOKQ",
        "outputId": "6e506636-bbff-4020-cfdf-0dcfbd251701"
      },
      "execution_count": 2,
      "outputs": [
        {
          "output_type": "stream",
          "name": "stdout",
          "text": [
            "{1, 2, 3, 5, 6}\n"
          ]
        }
      ]
    },
    {
      "cell_type": "code",
      "source": [
        "# 3. Perform union and intersection between two sets\n",
        "s1 = {1,2,3,4,5}\n",
        "s2 = {2,4,6,8,10}\n",
        "\n",
        "print(s1|s2)\n",
        "\n",
        "print(s1 & s2)\n"
      ],
      "metadata": {
        "colab": {
          "base_uri": "https://localhost:8080/"
        },
        "id": "FoLLWjAhBOHb",
        "outputId": "e74b9043-f069-414e-a029-3bc8bfc6661a"
      },
      "execution_count": 3,
      "outputs": [
        {
          "output_type": "stream",
          "name": "stdout",
          "text": [
            "{1, 2, 3, 4, 5, 6, 8, 10}\n",
            "{2, 4}\n"
          ]
        }
      ]
    },
    {
      "cell_type": "code",
      "source": [
        "# 4. Create a set from a string to get unique characters\n",
        "\n",
        "name = \"Suhas Sadashiv Kolekar\"\n",
        "\n",
        "print(set(name))\n"
      ],
      "metadata": {
        "colab": {
          "base_uri": "https://localhost:8080/"
        },
        "id": "kxrn3GbLBlgr",
        "outputId": "8c24e638-5177-4030-87ac-a508ff733c85"
      },
      "execution_count": 4,
      "outputs": [
        {
          "output_type": "stream",
          "name": "stdout",
          "text": [
            "{'u', 'o', 'a', 'K', 'v', 'l', 'i', 'e', 'k', ' ', 'h', 'S', 'd', 'r', 's'}\n"
          ]
        }
      ]
    },
    {
      "cell_type": "code",
      "source": [
        "# 5. Check if one set is a subset of another\n",
        "\n",
        "s1 = {2,3,4,5}\n",
        "\n",
        "s2 = {1,2,3,4,5,6,7,8,9}\n",
        "\n",
        "s1.issubset(s2)"
      ],
      "metadata": {
        "colab": {
          "base_uri": "https://localhost:8080/"
        },
        "id": "J40quAhjBlcw",
        "outputId": "ceba15f9-3bae-4ce2-fb4c-63839dca33e8"
      },
      "execution_count": 5,
      "outputs": [
        {
          "output_type": "execute_result",
          "data": {
            "text/plain": [
              "True"
            ]
          },
          "metadata": {},
          "execution_count": 5
        }
      ]
    },
    {
      "cell_type": "markdown",
      "source": [
        "# 🗂️ Python Dictionaries — Complete Guide\n",
        "\n",
        "A **dictionary** is an **unordered**, **mutable** collection of **key-value pairs**.\n",
        "\n",
        "```python\n",
        "my_dict = {\n",
        "    \"name\": \"Suhas\",\n",
        "    \"age\": 24,\n",
        "    \"location\": \"Mumbai\"\n",
        "}\n",
        "```\n",
        "\n",
        "---\n",
        "\n",
        "## 🔹 Key Features\n",
        "\n",
        "| Feature                            | Description                             |\n",
        "| ---------------------------------- | --------------------------------------- |\n",
        "| **Key-Value Pairs**                | Each item has a key and its value       |\n",
        "| **Mutable**                        | Can add, update, or delete entries      |\n",
        "| **Unordered**                      | No guarantee of order before Python 3.7 |\n",
        "| **Keys Must Be Unique & Hashable** | (str, int, tuple OK)                    |\n",
        "\n",
        "---\n",
        "\n",
        "## 🔸 Creating Dictionaries\n",
        "\n",
        "```python\n",
        "# Using curly braces\n",
        "user = {\"name\": \"Suhas\", \"age\": 24}\n",
        "\n",
        "# Using dict() constructor\n",
        "info = dict(city=\"Pune\", pin=411001)\n",
        "\n",
        "# From list of tuples\n",
        "pairs = dict([(\"a\", 1), (\"b\", 2)])\n",
        "```\n",
        "\n",
        "---\n",
        "\n",
        "## 🔸 Accessing & Updating Values\n",
        "\n",
        "```python\n",
        "print(user[\"name\"])          # Suhas\n",
        "user[\"age\"] = 25             # Update value\n",
        "user[\"email\"] = \"x@gmail.com\"  # Add new key-value pair\n",
        "\n",
        "# Using get (avoids KeyError)\n",
        "print(user.get(\"phone\", \"Not found\"))\n",
        "```\n",
        "\n",
        "---\n",
        "\n",
        "## 🔸 Dictionary Methods\n",
        "\n",
        "| Method           | Description                         |\n",
        "| ---------------- | ----------------------------------- |\n",
        "| `.keys()`        | Returns all keys                    |\n",
        "| `.values()`      | Returns all values                  |\n",
        "| `.items()`       | Returns key-value pairs             |\n",
        "| `.get(key)`      | Gets value, returns None if missing |\n",
        "| `.pop(key)`      | Removes key and returns value       |\n",
        "| `.update(dict2)` | Merges another dictionary           |\n",
        "| `.clear()`       | Empties the dictionary              |\n",
        "\n",
        "```python\n",
        "print(user.keys())     # dict_keys(['name', 'age', 'email'])\n",
        "print(user.items())    # dict_items([('name', 'Suhas'), ...])\n",
        "```\n",
        "\n",
        "---\n",
        "\n",
        "## 🔸 Deleting Items\n",
        "\n",
        "```python\n",
        "del user[\"email\"]\n",
        "user.pop(\"age\")\n",
        "user.clear()  # Empties the dict\n",
        "```\n",
        "\n",
        "---\n",
        "\n",
        "## 🔸 Looping Through a Dictionary\n",
        "\n",
        "```python\n",
        "for key, value in user.items():\n",
        "    print(f\"{key}: {value}\")\n",
        "```\n",
        "\n",
        "---\n",
        "\n",
        "## 🔸 Dictionary Comprehension\n",
        "\n",
        "```python\n",
        "squared = {x: x**2 for x in range(1, 6)}\n",
        "print(squared)  # {1: 1, 2: 4, 3: 9, 4: 16, 5: 25}\n",
        "```\n",
        "\n",
        "---\n",
        "\n",
        "## 🔹 Nested Dictionaries\n",
        "\n",
        "```python\n",
        "student = {\n",
        "    \"name\": \"Suhas\",\n",
        "    \"marks\": {\n",
        "        \"math\": 95,\n",
        "        \"science\": 90\n",
        "    }\n",
        "}\n",
        "print(student[\"marks\"][\"math\"])  # 95\n",
        "```\n",
        "\n",
        "---\n",
        "\n",
        "## 🔹 Valid Key Types\n",
        "\n",
        "* Strings, integers, tuples (immutable types)\n",
        "* ❌ Lists, sets, dicts (mutable types) are **not** allowed as keys\n",
        "\n",
        "---\n",
        "\n",
        "## 🧠 Use-Cases in Data Science\n",
        "\n",
        "* Mapping column names to types\n",
        "* Representing JSON data\n",
        "* Creating fast lookup tables\n",
        "* Storing model parameters and metrics\n",
        "\n"
      ],
      "metadata": {
        "id": "3XaMGzzaDnr5"
      }
    },
    {
      "cell_type": "markdown",
      "source": [
        "## 🧪 Mini Challenges:"
      ],
      "metadata": {
        "id": "mgnTzEpuDwqP"
      }
    },
    {
      "cell_type": "code",
      "source": [
        "#  1. Create a dictionary of 3 students and their scores\n",
        "students = dict([(\"ramesh\",82),(\"Mahesh\",85),(\"Suresh\",84)])\n",
        "\n",
        "print(students)"
      ],
      "metadata": {
        "colab": {
          "base_uri": "https://localhost:8080/"
        },
        "id": "E75mFFpPCZiz",
        "outputId": "497839f9-a085-4e05-9f34-4e3d44d9a783"
      },
      "execution_count": 11,
      "outputs": [
        {
          "output_type": "stream",
          "name": "stdout",
          "text": [
            "{'ramesh': 82, 'Mahesh': 85, 'Suresh': 84}\n"
          ]
        }
      ]
    },
    {
      "cell_type": "code",
      "source": [
        "#  2. Add a new student\n",
        "students.update({\"suhas\":88})\n",
        "\n",
        "print(students)\n"
      ],
      "metadata": {
        "colab": {
          "base_uri": "https://localhost:8080/"
        },
        "id": "XiyVY-cUD8Yh",
        "outputId": "36fe48f0-b58e-402c-fcb2-ae1b564c8558"
      },
      "execution_count": 14,
      "outputs": [
        {
          "output_type": "stream",
          "name": "stdout",
          "text": [
            "{'ramesh': 82, 'Mahesh': 85, 'Suresh': 84, 'suhas': 88}\n"
          ]
        }
      ]
    },
    {
      "cell_type": "code",
      "source": [
        "# 3. Update a student's score\n",
        "students[\"Suresh\"] = 86\n",
        "\n",
        "print(students)"
      ],
      "metadata": {
        "colab": {
          "base_uri": "https://localhost:8080/"
        },
        "id": "OwkZSPJMD_Uq",
        "outputId": "0f93bab8-c382-4256-c91a-3d43d5d3b5e7"
      },
      "execution_count": 15,
      "outputs": [
        {
          "output_type": "stream",
          "name": "stdout",
          "text": [
            "{'ramesh': 82, 'Mahesh': 85, 'Suresh': 86, 'suhas': 88}\n"
          ]
        }
      ]
    },
    {
      "cell_type": "code",
      "source": [
        "# 4. Remove a student\n",
        "students.pop(\"Mahesh\")\n",
        "\n",
        "print(students)"
      ],
      "metadata": {
        "colab": {
          "base_uri": "https://localhost:8080/"
        },
        "id": "1o94ZRjnECSW",
        "outputId": "fd59d12d-749e-43cc-bf6a-32e296ca3330"
      },
      "execution_count": 16,
      "outputs": [
        {
          "output_type": "stream",
          "name": "stdout",
          "text": [
            "{'ramesh': 82, 'Suresh': 86, 'suhas': 88}\n"
          ]
        }
      ]
    },
    {
      "cell_type": "code",
      "source": [
        "# 5. Print all student names and scores using `.items()`\n",
        "\n",
        "for key, value in students.items():\n",
        "  print(f\"{key}:{value}\")"
      ],
      "metadata": {
        "colab": {
          "base_uri": "https://localhost:8080/"
        },
        "id": "P5Z5GOv7EFLh",
        "outputId": "467f4577-2fd0-4125-9ddd-3bb0ff4011b1"
      },
      "execution_count": 18,
      "outputs": [
        {
          "output_type": "stream",
          "name": "stdout",
          "text": [
            "ramesh:82\n",
            "Suresh:86\n",
            "suhas:88\n"
          ]
        }
      ]
    },
    {
      "cell_type": "code",
      "source": [],
      "metadata": {
        "id": "8ROdPp4kGhBC"
      },
      "execution_count": null,
      "outputs": []
    }
  ]
}