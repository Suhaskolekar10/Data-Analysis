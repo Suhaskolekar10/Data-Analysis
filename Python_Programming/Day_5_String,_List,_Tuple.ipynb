{
  "nbformat": 4,
  "nbformat_minor": 0,
  "metadata": {
    "colab": {
      "provenance": []
    },
    "kernelspec": {
      "name": "python3",
      "display_name": "Python 3"
    },
    "language_info": {
      "name": "python"
    }
  },
  "cells": [
    {
      "cell_type": "markdown",
      "source": [
        "# 🧵 Python Strings — The Complete Guide\n",
        "\n",
        "In Python, a **string** is a sequence of Unicode characters enclosed in single `'` or double `\"` quotes.\n",
        "\n",
        "```python\n",
        "name = \"Suhas\"\n",
        "```\n",
        "\n",
        "---\n",
        "\n",
        "## 📌 Basic Properties\n",
        "\n",
        "* **Immutable**: You can’t change characters once the string is created.\n",
        "* **Indexable**: You can access characters via indexing (`s[0]`)\n",
        "* **Iterable**: You can loop through them\n",
        "\n",
        "---\n",
        "\n",
        "## 🔹 String Creation\n",
        "\n",
        "```python\n",
        "str1 = 'Hello'\n",
        "str2 = \"World\"\n",
        "str3 = '''Multiline\n",
        "String'''\n",
        "```\n",
        "\n",
        "---\n",
        "\n",
        "## 🔹 Accessing Characters\n",
        "\n",
        "```python\n",
        "word = \"Python\"\n",
        "print(word[0])   # P\n",
        "print(word[-1])  # n (last char)\n",
        "```\n",
        "\n",
        "---\n",
        "\n",
        "## 🔹 String Slicing\n",
        "\n",
        "```python\n",
        "s = \"DataScience\"\n",
        "print(s[0:4])    # Data\n",
        "print(s[4:])     # Science\n",
        "print(s[:4])     # Data\n",
        "print(s[::-1])   # Reverse string\n",
        "```\n",
        "\n",
        "---\n",
        "\n",
        "## 🔹 String Methods (Most Useful)\n",
        "\n",
        "| Category       | Method/Use                               | Example                               |\n",
        "| -------------- | ---------------------------------------- | ------------------------------------- |\n",
        "| **Case**       | `.lower()`, `.upper()`, `.title()`       | `\"suhas\".title()` → `'Suhas'`         |\n",
        "| **Search**     | `.find()`, `.index()`                    | `\"hello\".find(\"e\")` → `1`             |\n",
        "| **Replace**    | `.replace(old, new)`                     | `\"aabb\".replace(\"a\", \"x\")` → `'xxbb'` |\n",
        "| **Split/Join** | `.split()`, `' '.join(list)`             | `\"a,b\".split(',')` → `['a', 'b']`     |\n",
        "| **Check**      | `.startswith()`, `.endswith()`           | `\"AI\".startswith(\"A\")` → `True`       |\n",
        "| **Count**      | `.count(char)`                           | `\"hello\".count(\"l\")` → `2`            |\n",
        "| **Whitespace** | `.strip()`, `.lstrip()`, `.rstrip()`     | `\" hello \".strip()` → `'hello'`       |\n",
        "| **Is Check**   | `.isdigit()`, `.isalpha()`, `.isspace()` | `\"123\".isdigit()` → `True`            |\n",
        "\n",
        "---\n",
        "\n",
        "## 🔹 String Formatting\n",
        "\n",
        "### 1. `f-strings` (modern & preferred)\n",
        "\n",
        "```python\n",
        "name = \"Suhas\"\n",
        "print(f\"Hello, {name}!\")\n",
        "```\n",
        "\n",
        "### 2. `.format()` method\n",
        "\n",
        "```python\n",
        "print(\"Hello, {}\".format(name))\n",
        "```\n",
        "\n",
        "### 3. `%` operator (old)\n",
        "\n",
        "```python\n",
        "print(\"Hello, %s\" % name)\n",
        "```\n",
        "\n",
        "---\n",
        "\n",
        "## 🔹 Escape Characters\n",
        "\n",
        "| Symbol | Meaning      |\n",
        "| ------ | ------------ |\n",
        "| `\\n`   | Newline      |\n",
        "| `\\t`   | Tab          |\n",
        "| `\\'`   | Single quote |\n",
        "| `\\\\`   | Backslash    |\n",
        "\n",
        "```python\n",
        "print(\"Line1\\nLine2\")\n",
        "```\n",
        "\n",
        "---\n",
        "\n",
        "## 🔹 String Comparisons\n",
        "\n",
        "```python\n",
        "s1 = \"apple\"\n",
        "s2 = \"banana\"\n",
        "print(s1 == s2)   # False\n",
        "print(s1 < s2)    # True (lexicographic order)\n",
        "```\n",
        "\n",
        "---\n",
        "\n",
        "## 🔹 Looping Through a String\n",
        "\n",
        "```python\n",
        "for char in \"Suhas\":\n",
        "    print(char)\n",
        "```\n",
        "\n",
        "---\n",
        "\n",
        "## 🧠 String Use-Cases in Data Science\n",
        "\n",
        "* **Cleaning text** (NLP)\n",
        "* **Parsing and formatting data**\n",
        "* **Log and pattern analysis**\n",
        "* **Feature engineering from text**\n",
        "\n",
        "\n"
      ],
      "metadata": {
        "id": "90v7_WFxBwpt"
      }
    },
    {
      "cell_type": "markdown",
      "source": [
        "## 🧪 Quick Challenges (Try These):\n",
        "\n"
      ],
      "metadata": {
        "id": "J61o9-HaCDea"
      }
    },
    {
      "cell_type": "code",
      "source": [
        "#1. Write a function to reverse a string\n",
        "def rev_string(s):\n",
        "  return s[::-1]\n",
        "\n",
        "s = input(\"Enter a string to reverse :- \")\n",
        "print(rev_string(s))\n"
      ],
      "metadata": {
        "colab": {
          "base_uri": "https://localhost:8080/"
        },
        "id": "uUt7OwLgCCLj",
        "outputId": "e847ab94-f3bd-44b1-c8b8-759c0cc96547"
      },
      "execution_count": 1,
      "outputs": [
        {
          "output_type": "stream",
          "name": "stdout",
          "text": [
            "Enter a string to reverse :- Suhas\n",
            "sahuS\n"
          ]
        }
      ]
    },
    {
      "cell_type": "code",
      "source": [
        "# 2. Count vowels in a string\n",
        "st = input(\"Enter a string to count vowels :- \")\n",
        "count = 0\n",
        "\n",
        "for char in st:\n",
        "  if char in 'aeiouAEIOU':\n",
        "    count +=1\n",
        "\n",
        "print(\"Numbar of vowels in  = {}\".format(count))"
      ],
      "metadata": {
        "colab": {
          "base_uri": "https://localhost:8080/"
        },
        "id": "dJnJwY-yCLAt",
        "outputId": "d90e8f68-04a6-4b86-d3c5-3487eccc292f"
      },
      "execution_count": 4,
      "outputs": [
        {
          "output_type": "stream",
          "name": "stdout",
          "text": [
            "Enter a string to count vowels :- sujit kolekar\n",
            "Numbar of vowels in  = 5\n"
          ]
        }
      ]
    },
    {
      "cell_type": "code",
      "source": [
        "# 3. Replace all spaces in a sentence with hyphens\n",
        "\n",
        "st1 = input(\"Enter a sentence to replace spaces with hypens :- \")\n",
        "\n",
        "st2 = st1.replace(\" \", \"_\")\n",
        "\n",
        "print(st2)"
      ],
      "metadata": {
        "colab": {
          "base_uri": "https://localhost:8080/"
        },
        "id": "gLN-GjFxCK92",
        "outputId": "06e8a6a9-a26b-486a-a0fa-c233b0aeeb0c"
      },
      "execution_count": 5,
      "outputs": [
        {
          "output_type": "stream",
          "name": "stdout",
          "text": [
            "Enter a sentence to replace spaces with hypens :- Suhas Sadashiv Kolekar\n",
            "Suhas_Sadashiv_Kolekar\n"
          ]
        }
      ]
    },
    {
      "cell_type": "code",
      "source": [
        "# 4. Check if a string is a palindrome\n",
        "\n",
        "st2 = input(\"Enter a string to check Palindrome.\")\n",
        "\n",
        "if st2 == st2[::-1]:\n",
        "  print(\"Palindrome.\")\n",
        "else:\n",
        "  print(\"Not_Palindrome.\")"
      ],
      "metadata": {
        "colab": {
          "base_uri": "https://localhost:8080/"
        },
        "id": "DeUJEaYDCO-M",
        "outputId": "6deb4fbd-5e86-49a8-a752-6ca60a7502cb"
      },
      "execution_count": 7,
      "outputs": [
        {
          "output_type": "stream",
          "name": "stdout",
          "text": [
            "Enter a string to check Palindrome.Suhas\n",
            "Not_Palindrome.\n"
          ]
        }
      ]
    },
    {
      "cell_type": "code",
      "source": [
        "# 5. Capitalize the first letter of every word\n",
        "\n",
        "st3 = input(\"Enter a sentence to capitalize first letter of every word :- \")\n",
        "\n",
        "st4 = st3.title()\n",
        "\n",
        "print(st4)"
      ],
      "metadata": {
        "colab": {
          "base_uri": "https://localhost:8080/"
        },
        "id": "__EfkVrICO1N",
        "outputId": "52263c90-e476-46bf-eaea-ae3584a83797"
      },
      "execution_count": 8,
      "outputs": [
        {
          "output_type": "stream",
          "name": "stdout",
          "text": [
            "Enter a sentence to capitalize first letter of every word :- suhas sadashiv kolekar\n",
            "Suhas Sadashiv Kolekar\n"
          ]
        }
      ]
    },
    {
      "cell_type": "markdown",
      "source": [
        "# 🧱 Python Lists — Complete Guide\n",
        "\n",
        "A **list** is an **ordered, mutable collection** that can store **heterogeneous data types** (strings, numbers, even other lists).\n",
        "\n",
        "```python\n",
        "my_list = [10, \"Suhas\", 3.14, True]\n",
        "```\n",
        "\n",
        "---\n",
        "\n",
        "## 🔹 Key Properties\n",
        "\n",
        "| Property      | Description                   |\n",
        "| ------------- | ----------------------------- |\n",
        "| **Ordered**   | Maintains insertion order     |\n",
        "| **Mutable**   | Can be changed after creation |\n",
        "| **Indexable** | Access using index `[i]`      |\n",
        "| **Nested**    | Can contain other lists       |\n",
        "\n",
        "---\n",
        "\n",
        "## 🔸 Creating Lists\n",
        "\n",
        "```python\n",
        "empty = []\n",
        "nums = [1, 2, 3, 4]\n",
        "words = [\"Data\", \"Science\", \"AI\"]\n",
        "nested = [1, [2, 3], 4]\n",
        "```\n",
        "\n",
        "---\n",
        "\n",
        "## 🔸 Indexing & Slicing\n",
        "\n",
        "```python\n",
        "a = [10, 20, 30, 40, 50]\n",
        "print(a[0])     # 10\n",
        "print(a[-1])    # 50\n",
        "print(a[1:4])   # [20, 30, 40]\n",
        "print(a[::-1])  # Reverse: [50, 40, 30, 20, 10]\n",
        "```\n",
        "\n",
        "---\n",
        "\n",
        "## 🔸 List Methods (🔥 Must-Know 🔥)\n",
        "\n",
        "| Method         | Description                    |\n",
        "| -------------- | ------------------------------ |\n",
        "| `append(x)`    | Add item to end                |\n",
        "| `insert(i, x)` | Add item at index `i`          |\n",
        "| `extend(list)` | Add elements of another list   |\n",
        "| `remove(x)`    | Remove first occurrence of `x` |\n",
        "| `pop(i)`       | Remove & return item at `i`    |\n",
        "| `clear()`      | Remove all elements            |\n",
        "| `index(x)`     | Find first index of `x`        |\n",
        "| `count(x)`     | Count occurrences of `x`       |\n",
        "| `sort()`       | Sort list in place             |\n",
        "| `reverse()`    | Reverse the list in place      |\n",
        "| `copy()`       | Shallow copy of list           |\n",
        "\n",
        "---\n",
        "\n",
        "### 🔄 Example:\n",
        "\n",
        "```python\n",
        "fruits = [\"apple\", \"banana\"]\n",
        "fruits.append(\"orange\")     # ['apple', 'banana', 'orange']\n",
        "fruits.insert(1, \"kiwi\")    # ['apple', 'kiwi', 'banana', 'orange']\n",
        "fruits.pop()                # Removes 'orange'\n",
        "```\n",
        "\n",
        "---\n",
        "\n",
        "## 🔹 `in` and `not in` (Membership Operators)\n",
        "\n",
        "```python\n",
        "nums = [1, 2, 3]\n",
        "print(2 in nums)      # True\n",
        "print(5 not in nums)  # True\n",
        "```\n",
        "\n",
        "---\n",
        "\n",
        "## 🔹 Iterating Over a List\n",
        "\n",
        "```python\n",
        "for item in [10, 20, 30]:\n",
        "    print(item)\n",
        "```\n",
        "\n",
        "---\n",
        "\n",
        "## 🔹 List Comprehension (💎 Advanced & Powerful)\n",
        "\n",
        "```python\n",
        "squares = [x**2 for x in range(1, 6)]\n",
        "# Output: [1, 4, 9, 16, 25]\n",
        "```\n",
        "\n",
        "### With Condition:\n",
        "\n",
        "```python\n",
        "even = [x for x in range(10) if x % 2 == 0]\n",
        "```\n",
        "\n",
        "---\n",
        "\n",
        "## 🔹 Nested Lists\n",
        "\n",
        "```python\n",
        "matrix = [[1, 2], [3, 4]]\n",
        "print(matrix[0][1])  # 2\n",
        "```\n",
        "\n",
        "---\n",
        "\n",
        "## 🧠 Use Cases in Data Science\n",
        "\n",
        "* Storing dataset rows before converting to DataFrame\n",
        "* Feature vectors in ML preprocessing\n",
        "* Intermediate data during parsing/cleaning\n",
        "* Easy container for JSON-like structures\n"
      ],
      "metadata": {
        "id": "sbAb1VysGFhB"
      }
    },
    {
      "cell_type": "markdown",
      "source": [
        "## 🧪 Quick Challenges:"
      ],
      "metadata": {
        "id": "qQ4x3-u8Jd8T"
      }
    },
    {
      "cell_type": "code",
      "source": [
        "#1. Create a list with 5 elements, add and remove two.\n",
        "l1 = [1,2,3,4,5]\n",
        "l1.append(6)\n",
        "l1.remove(2)\n",
        "l1.append(8)\n",
        "l1.remove(4)\n",
        "\n",
        "print(l1)"
      ],
      "metadata": {
        "colab": {
          "base_uri": "https://localhost:8080/"
        },
        "id": "3Wx10Lt1JddE",
        "outputId": "d5ca69fa-0c10-4734-9549-7f385455af51"
      },
      "execution_count": 10,
      "outputs": [
        {
          "output_type": "stream",
          "name": "stdout",
          "text": [
            "[1, 3, 5, 6, 8]\n"
          ]
        }
      ]
    },
    {
      "cell_type": "code",
      "source": [
        "# 2. Sort a list of numbers descending\n",
        "l2 = [5,6,5,8,5,3,9,1,6,2,8]\n",
        "\n",
        "l2.sort(reverse = True)\n",
        "\n",
        "print(l2)"
      ],
      "metadata": {
        "colab": {
          "base_uri": "https://localhost:8080/"
        },
        "id": "NBsT_4DLEyBH",
        "outputId": "9d1f1165-2e62-4eb3-8251-03cc465a2317"
      },
      "execution_count": 11,
      "outputs": [
        {
          "output_type": "stream",
          "name": "stdout",
          "text": [
            "[9, 8, 8, 6, 6, 5, 5, 5, 3, 2, 1]\n"
          ]
        }
      ]
    },
    {
      "cell_type": "code",
      "source": [
        "# 3. Count how many times a number appears\n",
        "l3 = [5,6,5,8,5,3,9,1,6,2,8]\n",
        "\n",
        "print(l3.count(5))"
      ],
      "metadata": {
        "colab": {
          "base_uri": "https://localhost:8080/"
        },
        "id": "vAvtk5mJJqXS",
        "outputId": "56b56bc7-8a99-43fc-f662-578b1b5433cd"
      },
      "execution_count": 12,
      "outputs": [
        {
          "output_type": "stream",
          "name": "stdout",
          "text": [
            "3\n"
          ]
        }
      ]
    },
    {
      "cell_type": "code",
      "source": [
        "# 4. Create a list of cubes using list comprehension\n",
        "l4 = [i**3 for i in [1,2,3,4,5,6,7,8,9]]\n",
        "\n",
        "print(l4)"
      ],
      "metadata": {
        "colab": {
          "base_uri": "https://localhost:8080/"
        },
        "id": "nlSON4KMJqTt",
        "outputId": "298fd7ee-b724-4331-d42d-b911f511cfd6"
      },
      "execution_count": 13,
      "outputs": [
        {
          "output_type": "stream",
          "name": "stdout",
          "text": [
            "[1, 8, 27, 64, 125, 216, 343, 512, 729]\n"
          ]
        }
      ]
    },
    {
      "cell_type": "code",
      "source": [
        "# 5. Reverse a list without using `.reverse()`\n",
        "l5 = [1,2,3,4,5,6,7,8,9]\n",
        "\n",
        "rev_l5 = l5[::-1]\n",
        "\n",
        "print(rev_l5)"
      ],
      "metadata": {
        "colab": {
          "base_uri": "https://localhost:8080/"
        },
        "id": "u4fBAQiUJwrC",
        "outputId": "bef85df0-8512-4f05-f97c-63a817eba7c6"
      },
      "execution_count": 14,
      "outputs": [
        {
          "output_type": "stream",
          "name": "stdout",
          "text": [
            "[9, 8, 7, 6, 5, 4, 3, 2, 1]\n"
          ]
        }
      ]
    },
    {
      "cell_type": "markdown",
      "source": [
        "# 🪢 Python Tuples — The Complete Guide\n",
        "\n",
        "A **tuple** is an **ordered, immutable** collection of values. You can think of it as a **read-only list**.\n",
        "\n",
        "```python\n",
        "t = (1, 2, 3)\n",
        "```\n",
        "\n",
        "---\n",
        "\n",
        "## 🔹 Key Properties of Tuples\n",
        "\n",
        "| Property              | Description                      |\n",
        "| --------------------- | -------------------------------- |\n",
        "| **Ordered**           | Maintains the order of elements  |\n",
        "| **Immutable**         | Cannot be changed after creation |\n",
        "| **Indexable**         | Access elements using index      |\n",
        "| **Allows Duplicates** | Yes                              |\n",
        "| **Can Be Nested**     | Yes                              |\n",
        "\n",
        "---\n",
        "\n",
        "## 🔸 Creating Tuples\n",
        "\n",
        "```python\n",
        "t1 = (1, 2, 3)\n",
        "t2 = (\"Suhas\", True, 3.14)\n",
        "t3 = (1,)            # ✅ Single-element tuple needs comma\n",
        "t4 = tuple([1, 2])   # From a list\n",
        "```\n",
        "\n",
        "---\n",
        "\n",
        "## 🔸 Accessing Elements\n",
        "\n",
        "```python\n",
        "t = (10, 20, 30, 40)\n",
        "print(t[0])     # 10\n",
        "print(t[-1])    # 40\n",
        "print(t[1:3])   # (20, 30)\n",
        "```\n",
        "\n",
        "---\n",
        "\n",
        "## 🔸 Tuple Operations\n",
        "\n",
        "### ✅ Concatenation & Repetition\n",
        "\n",
        "```python\n",
        "a = (1, 2)\n",
        "b = (3, 4)\n",
        "print(a + b)       # (1, 2, 3, 4)\n",
        "print(a * 2)       # (1, 2, 1, 2)\n",
        "```\n",
        "\n",
        "---\n",
        "\n",
        "### ✅ Membership Test\n",
        "\n",
        "```python\n",
        "t = (1, 2, 3)\n",
        "print(2 in t)      # True\n",
        "```\n",
        "\n",
        "---\n",
        "\n",
        "### ✅ Looping Through Tuples\n",
        "\n",
        "```python\n",
        "for val in (\"Python\", \"AI\"):\n",
        "    print(val)\n",
        "```\n",
        "\n",
        "---\n",
        "\n",
        "## 🔸 Tuple Methods\n",
        "\n",
        "Tuples have **only two built-in methods**:\n",
        "\n",
        "| Method      | Description                             |\n",
        "| ----------- | --------------------------------------- |\n",
        "| `.count(x)` | Returns the number of times `x` appears |\n",
        "| `.index(x)` | Returns the first index of `x`          |\n",
        "\n",
        "```python\n",
        "t = (1, 2, 3, 2)\n",
        "print(t.count(2))   # 2\n",
        "print(t.index(3))   # 2\n",
        "```\n",
        "\n",
        "---\n",
        "\n",
        "## 🔹 Tuple Unpacking (🔥 Very Important 🔥)\n",
        "\n",
        "```python\n",
        "person = (\"Suhas\", 24, \"Mumbai\")\n",
        "name, age, city = person\n",
        "print(name)   # Suhas\n",
        "```\n",
        "\n",
        "---\n",
        "\n",
        "## 🔹 Nested Tuples\n",
        "\n",
        "```python\n",
        "nested = ((1, 2), (3, 4))\n",
        "print(nested[1][0])   # 3\n",
        "```\n",
        "\n",
        "---\n",
        "\n",
        "## 🔹 When to Use Tuples vs Lists?\n",
        "\n",
        "| Use Case           | Use Tuple When...           | Use List When...               |\n",
        "| ------------------ | --------------------------- | ------------------------------ |\n",
        "| Data is Fixed      | You don't want it to change | You want to add/remove items   |\n",
        "| As Dictionary Keys | You want immutability       | ❌ Lists can't be keys in dicts |\n",
        "| Performance        | Tuples use less memory      | Lists are more flexible        |\n",
        "\n",
        "---\n",
        "\n",
        "## 🧠 Use-Cases in Data Science\n",
        "\n",
        "* Holding **coordinate points** (x, y)\n",
        "* Returning **multiple values** from a function\n",
        "* Storing **feature-label pairs**\n",
        "* Used in **hashable contexts** (like dictionary keys or sets)\n"
      ],
      "metadata": {
        "id": "EAkQUYdWmHtt"
      }
    },
    {
      "cell_type": "markdown",
      "source": [
        "## 🧪 Mini-Challenges:\n"
      ],
      "metadata": {
        "id": "OQLRCp75nHLR"
      }
    },
    {
      "cell_type": "code",
      "source": [
        "# 1. Create a tuple of 5 elements\n",
        "\n",
        "t1 = (1,2,3,4,5)\n"
      ],
      "metadata": {
        "id": "WjsEGn7PMyuM"
      },
      "execution_count": 15,
      "outputs": []
    },
    {
      "cell_type": "code",
      "source": [
        "#2. Try modifying one element — see what happens\n",
        "\n",
        "t2 = (4,5,6,7,8,9)\n",
        "\n",
        "t2[2] = 40\n",
        "\n"
      ],
      "metadata": {
        "colab": {
          "base_uri": "https://localhost:8080/",
          "height": 193
        },
        "id": "YXSTEk5RnP-y",
        "outputId": "40db4050-340a-4759-a4a9-e0fa910cfe85"
      },
      "execution_count": 19,
      "outputs": [
        {
          "output_type": "error",
          "ename": "TypeError",
          "evalue": "'tuple' object does not support item assignment",
          "traceback": [
            "\u001b[0;31m---------------------------------------------------------------------------\u001b[0m",
            "\u001b[0;31mTypeError\u001b[0m                                 Traceback (most recent call last)",
            "\u001b[0;32m<ipython-input-19-633987bcba0c>\u001b[0m in \u001b[0;36m<cell line: 0>\u001b[0;34m()\u001b[0m\n\u001b[1;32m      3\u001b[0m \u001b[0mt2\u001b[0m \u001b[0;34m=\u001b[0m \u001b[0;34m(\u001b[0m\u001b[0;36m4\u001b[0m\u001b[0;34m,\u001b[0m\u001b[0;36m5\u001b[0m\u001b[0;34m,\u001b[0m\u001b[0;36m6\u001b[0m\u001b[0;34m,\u001b[0m\u001b[0;36m7\u001b[0m\u001b[0;34m,\u001b[0m\u001b[0;36m8\u001b[0m\u001b[0;34m,\u001b[0m\u001b[0;36m9\u001b[0m\u001b[0;34m)\u001b[0m\u001b[0;34m\u001b[0m\u001b[0;34m\u001b[0m\u001b[0m\n\u001b[1;32m      4\u001b[0m \u001b[0;34m\u001b[0m\u001b[0m\n\u001b[0;32m----> 5\u001b[0;31m \u001b[0mt2\u001b[0m\u001b[0;34m[\u001b[0m\u001b[0;36m2\u001b[0m\u001b[0;34m]\u001b[0m \u001b[0;34m=\u001b[0m \u001b[0;36m40\u001b[0m\u001b[0;34m\u001b[0m\u001b[0;34m\u001b[0m\u001b[0m\n\u001b[0m\u001b[1;32m      6\u001b[0m \u001b[0;34m\u001b[0m\u001b[0m\n",
            "\u001b[0;31mTypeError\u001b[0m: 'tuple' object does not support item assignment"
          ]
        }
      ]
    },
    {
      "cell_type": "code",
      "source": [
        "# 3. Count how many times a value appears\n",
        "\n",
        "t3 = (1,2,3,6,2,5,3,2,6,2)\n",
        "\n",
        "t3.count(6)"
      ],
      "metadata": {
        "colab": {
          "base_uri": "https://localhost:8080/"
        },
        "id": "oKNXLWGynSTS",
        "outputId": "10420e49-1be8-4e05-f90f-7abbbcaaf9b7"
      },
      "execution_count": 20,
      "outputs": [
        {
          "output_type": "execute_result",
          "data": {
            "text/plain": [
              "2"
            ]
          },
          "metadata": {},
          "execution_count": 20
        }
      ]
    },
    {
      "cell_type": "code",
      "source": [
        "# 4. Concatenate two tuples\n",
        "\n",
        "t4 = (1,2,3,4,5)\n",
        "t5 = (6,7,8,9,10)\n",
        "\n",
        "can_t = t4+t5\n",
        "print(can_t)"
      ],
      "metadata": {
        "colab": {
          "base_uri": "https://localhost:8080/"
        },
        "id": "ShCPnpGfnYu1",
        "outputId": "81f90934-e049-469e-8ad0-7fe79e735569"
      },
      "execution_count": 21,
      "outputs": [
        {
          "output_type": "stream",
          "name": "stdout",
          "text": [
            "(1, 2, 3, 4, 5, 6, 7, 8, 9, 10)\n"
          ]
        }
      ]
    },
    {
      "cell_type": "code",
      "source": [
        "# 5. Unpack a tuple into 3 variables\n",
        "\n",
        "t6 = (\"suhas\", 24, \"CDAC\", True)\n",
        "\n",
        "name,age,college,employee = t6\n",
        "\n",
        "print(name)\n",
        "print(age)\n",
        "print(college)\n",
        "print(employee)"
      ],
      "metadata": {
        "colab": {
          "base_uri": "https://localhost:8080/"
        },
        "id": "STMSgwwYnahq",
        "outputId": "11ca04f5-f597-4c11-f4ff-f29b36eaa57e"
      },
      "execution_count": 24,
      "outputs": [
        {
          "output_type": "stream",
          "name": "stdout",
          "text": [
            "suhas\n",
            "24\n",
            "CDAC\n",
            "True\n"
          ]
        }
      ]
    },
    {
      "cell_type": "code",
      "source": [],
      "metadata": {
        "id": "l0GcpLmmpTxU"
      },
      "execution_count": null,
      "outputs": []
    }
  ]
}