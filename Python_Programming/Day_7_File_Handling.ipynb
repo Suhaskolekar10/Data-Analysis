{
  "nbformat": 4,
  "nbformat_minor": 0,
  "metadata": {
    "colab": {
      "provenance": []
    },
    "kernelspec": {
      "name": "python3",
      "display_name": "Python 3"
    },
    "language_info": {
      "name": "python"
    }
  },
  "cells": [
    {
      "cell_type": "markdown",
      "source": [
        "# 📁 Python File Handling — Complete Guide\n",
        "\n",
        "Python provides built-in functions to work with files, using the `open()` function.\n",
        "\n",
        "---\n",
        "\n",
        "## 🔹 Basic Syntax\n",
        "\n",
        "```python\n",
        "file = open(\"filename.txt\", \"mode\")\n",
        "# Do something\n",
        "file.close()\n",
        "```\n",
        "\n",
        "---\n",
        "\n",
        "## 🔹 File Modes\n",
        "\n",
        "| Mode  | Description                              |\n",
        "| ----- | ---------------------------------------- |\n",
        "| `'r'` | Read (default) — error if file not found |\n",
        "| `'w'` | Write — creates new or truncates         |\n",
        "| `'a'` | Append — creates or adds to file         |\n",
        "| `'x'` | Create — error if file exists            |\n",
        "| `'b'` | Binary mode (e.g., `'rb'`, `'wb'`)       |\n",
        "| `'+'` | Read & write (e.g., `'r+'`, `'w+'`)      |\n",
        "\n",
        "---\n",
        "\n",
        "## 🔹 Reading Files\n",
        "\n",
        "```python\n",
        "f = open(\"demo.txt\", \"r\")\n",
        "print(f.read())         # Read entire file\n",
        "f.close()\n",
        "```\n",
        "\n",
        "### Read specific bytes or lines:\n",
        "\n",
        "```python\n",
        "f.read(10)              # Read first 10 characters\n",
        "f.readline()            # Read one line\n",
        "f.readlines()           # List of all lines\n",
        "```\n",
        "\n",
        "---\n",
        "\n",
        "## 🔹 Writing Files\n",
        "\n",
        "```python\n",
        "f = open(\"output.txt\", \"w\")\n",
        "f.write(\"Hello, Suhas!\")\n",
        "f.close()\n",
        "```\n",
        "\n",
        "> Note: `'w'` mode **overwrites** the file.\n",
        "\n",
        "### Append mode:\n",
        "\n",
        "```python\n",
        "f = open(\"output.txt\", \"a\")\n",
        "f.write(\"\\nAnother line\")\n",
        "f.close()\n",
        "```\n",
        "\n",
        "---\n",
        "\n",
        "## 🔹 Best Practice: `with` Statement\n",
        "\n",
        "Automatically handles file closing:\n",
        "\n",
        "```python\n",
        "with open(\"demo.txt\", \"r\") as f:\n",
        "    data = f.read()\n",
        "    print(data)\n",
        "\n",
        "# No need to call f.close()\n",
        "```\n",
        "\n",
        "---\n",
        "\n",
        "## 🔹 Working with Files in Folders\n",
        "\n",
        "```python\n",
        "with open(\"data/sample.txt\", \"r\") as f:\n",
        "    print(f.read())\n",
        "```\n",
        "\n",
        "> Make sure the path exists.\n",
        "\n",
        "---\n",
        "\n",
        "## 🔹 Checking File Existence (Optional)\n",
        "\n",
        "```python\n",
        "import os\n",
        "\n",
        "if os.path.exists(\"demo.txt\"):\n",
        "    print(\"File exists\")\n",
        "else:\n",
        "    print(\"File not found\")\n",
        "```\n",
        "\n",
        "---\n",
        "\n",
        "## 🔹 Deleting a File\n",
        "\n",
        "```python\n",
        "import os\n",
        "os.remove(\"demo.txt\")\n",
        "```\n",
        "\n",
        "---\n",
        "\n",
        "## 🔹 Reading CSV/TSV Files (Basic)\n",
        "\n",
        "```python\n",
        "with open(\"data.csv\", \"r\") as f:\n",
        "    for line in f:\n",
        "        print(line.strip().split(','))\n",
        "```\n",
        "\n",
        "> For structured reading of CSV, we'll use `pandas` later.\n",
        "\n",
        "---\n",
        "\n",
        "## 🧠 Real-World Use Cases\n",
        "\n",
        "* Reading data logs or reports\n",
        "* Saving model results, summaries\n",
        "* Working with configuration files\n",
        "* Reading and preprocessing raw datasets\n",
        "* Exporting processed output\n",
        "\n",
        "\n"
      ],
      "metadata": {
        "id": "pK26oXVmIh6l"
      }
    },
    {
      "cell_type": "markdown",
      "source": [
        "## 🧪 Mini Challenges:"
      ],
      "metadata": {
        "id": "jiCUQrocJCsH"
      }
    },
    {
      "cell_type": "code",
      "source": [
        "# 1. Create a file and write 3 lines into it\n",
        "print(\"Created...\")"
      ],
      "metadata": {
        "colab": {
          "base_uri": "https://localhost:8080/"
        },
        "id": "7a4FMqUeJBxn",
        "outputId": "9a05bb01-d764-4b57-949f-9ce4f56a296e"
      },
      "execution_count": 1,
      "outputs": [
        {
          "output_type": "stream",
          "name": "stdout",
          "text": [
            "Created...\n"
          ]
        }
      ]
    },
    {
      "cell_type": "code",
      "source": [
        "# 2. Read and print the file contents\n",
        "\n",
        "with open(\"/content/demo.txt\",\"r\") as file:\n",
        "  file_content = file.read()\n",
        "  print(file_content)\n"
      ],
      "metadata": {
        "colab": {
          "base_uri": "https://localhost:8080/"
        },
        "id": "QBjQbbnVJQ_V",
        "outputId": "2f944382-9a94-49a4-ea89-a376a8edad29"
      },
      "execution_count": 2,
      "outputs": [
        {
          "output_type": "stream",
          "name": "stdout",
          "text": [
            "﻿Hello I’m Suhas Kolekar.\n",
            "I’m 25 years old.\n",
            "I am currently working in BPO.\n",
            "\n"
          ]
        }
      ]
    },
    {
      "cell_type": "code",
      "source": [
        "# 3. Append a new line to the file\n",
        "with open(\"/content/demo.txt\",\"a\") as file_1:\n",
        "  file_1.write(\"This is the next line in the file.\")\n",
        "\n"
      ],
      "metadata": {
        "id": "aqoJgNA1JUfy"
      },
      "execution_count": 3,
      "outputs": []
    },
    {
      "cell_type": "code",
      "source": [
        "with open(\"/content/demo.txt\",\"r\") as file_2:\n",
        "  updated_content = file_2.read()\n",
        "  print(updated_content)"
      ],
      "metadata": {
        "colab": {
          "base_uri": "https://localhost:8080/"
        },
        "id": "BwbgBf5BL1C_",
        "outputId": "daec0bd0-696e-422b-82c4-ed67a24c5a65"
      },
      "execution_count": 4,
      "outputs": [
        {
          "output_type": "stream",
          "name": "stdout",
          "text": [
            "﻿Hello I’m Suhas Kolekar.\n",
            "I’m 25 years old.\n",
            "I am currently working in BPO.\n",
            "This is the next line in the file.\n"
          ]
        }
      ]
    },
    {
      "cell_type": "code",
      "source": [
        "# 4. Count the number of lines\n",
        "with open(\"/content/demo.txt\",\"r\") as file_3:\n",
        "  lines = file_3.readlines()\n",
        "  line_count = len(lines)\n",
        "  print(f\"number of lines = {line_count}\")\n"
      ],
      "metadata": {
        "colab": {
          "base_uri": "https://localhost:8080/"
        },
        "id": "VXWhjwXsJX2M",
        "outputId": "2d0c666e-d7f4-45a0-c89f-994dae80c270"
      },
      "execution_count": 5,
      "outputs": [
        {
          "output_type": "stream",
          "name": "stdout",
          "text": [
            "number of lines = 4\n"
          ]
        }
      ]
    },
    {
      "cell_type": "code",
      "source": [
        "# 5. Check if a file exists before opening\n",
        "\n",
        "import os\n",
        "if os.path.exists(\"/content/demo.txt\"):\n",
        "  print(\"File exists\")\n",
        "else:\n",
        "  print(\"File does not Exists\")\n"
      ],
      "metadata": {
        "colab": {
          "base_uri": "https://localhost:8080/"
        },
        "id": "FfMbtvg-JbJa",
        "outputId": "3161d0b7-321a-4a90-e446-4d7e654f7790"
      },
      "execution_count": 7,
      "outputs": [
        {
          "output_type": "stream",
          "name": "stdout",
          "text": [
            "File exists\n"
          ]
        }
      ]
    },
    {
      "cell_type": "code",
      "source": [],
      "metadata": {
        "id": "24E6Fp5JOHwi"
      },
      "execution_count": null,
      "outputs": []
    }
  ]
}