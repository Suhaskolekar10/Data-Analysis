{
  "nbformat": 4,
  "nbformat_minor": 0,
  "metadata": {
    "colab": {
      "provenance": []
    },
    "kernelspec": {
      "name": "python3",
      "display_name": "Python 3"
    },
    "language_info": {
      "name": "python"
    }
  },
  "cells": [
    {
      "cell_type": "markdown",
      "source": [
        "\n",
        "\n",
        "# 🧠 What is a Function?\n",
        "\n",
        "A **function** is a reusable block of code designed to **perform a specific task**. It helps avoid repetition and improves code clarity.\n",
        "\n",
        "---\n",
        "\n",
        "## 🔹 Why Use Functions?\n",
        "\n",
        "* Reusability: Write once, use multiple times\n",
        "* Modularity: Break big tasks into smaller chunks\n",
        "* Scalability: Easier to test and maintain\n",
        "* Cleaner Code: Improves readability and structure\n",
        "\n",
        "---\n",
        "\n",
        "## ✅ Types of Functions in Python\n",
        "\n",
        "1. **Built-in Functions** – like `print()`, `len()`, `type()`, etc.\n",
        "2. **User-defined Functions** – functions that you create yourself\n",
        "3. **Lambda Functions** – anonymous one-liner functions (we’ll cover this later)\n",
        "\n",
        "---\n",
        "\n",
        "## 🔧 1. Defining a Function\n",
        "\n",
        "```python\n",
        "def greet():\n",
        "    print(\"Hello, Suhas!\")\n",
        "```\n",
        "\n",
        "### 🔁 Calling a Function:\n",
        "\n",
        "```python\n",
        "greet()   # Output: Hello, Suhas!\n",
        "```\n",
        "\n",
        "---\n",
        "\n",
        "## 🔧 2. Function with Parameters\n",
        "\n",
        "```python\n",
        "def greet_user(name):\n",
        "    print(f\"Hello, {name}!\")\n",
        "    \n",
        "greet_user(\"Suhas\")  # Output: Hello, Suhas!\n",
        "```\n",
        "\n",
        "---\n",
        "\n",
        "## 🔧 3. Function with Return Statement\n",
        "\n",
        "```python\n",
        "def add(a, b):\n",
        "    return a + b\n",
        "\n",
        "result = add(3, 4)\n",
        "print(\"Sum:\", result)\n",
        "```\n",
        "\n",
        "---\n",
        "\n",
        "## 🔧 4. Default Parameters\n",
        "\n",
        "```python\n",
        "def welcome(name=\"Guest\"):\n",
        "    print(f\"Welcome, {name}!\")\n",
        "\n",
        "welcome()            # Welcome, Guest!\n",
        "welcome(\"Suhas\")     # Welcome, Suhas!\n",
        "```\n",
        "\n",
        "---\n",
        "\n",
        "## 🔧 5. Keyword vs Positional Arguments\n",
        "\n",
        "```python\n",
        "def student(name, age):\n",
        "    print(f\"Name: {name}, Age: {age}\")\n",
        "\n",
        "student(\"Suhas\", 23)                 # Positional\n",
        "student(age=23, name=\"Suhas\")       # Keyword\n",
        "```\n",
        "\n",
        "---\n",
        "\n",
        "## 🔧 6. Variable Number of Arguments\n",
        "\n",
        "```python\n",
        "def total_marks(*marks):    # accepts multiple values\n",
        "    print(\"Marks:\", marks)\n",
        "    print(\"Total:\", sum(marks))\n",
        "\n",
        "total_marks(80, 90, 85)\n",
        "```\n",
        "\n",
        "---\n",
        "\n",
        "## 🔧 7. Docstring (Documentation inside a function)\n",
        "\n",
        "```python\n",
        "def square(x):\n",
        "    \"\"\"Returns the square of a number.\"\"\"\n",
        "    return x * x\n",
        "```"
      ],
      "metadata": {
        "id": "BCYXwUOZfYeX"
      }
    },
    {
      "cell_type": "code",
      "source": [
        "'''\n",
        "🧪 Quick Challenge:\n",
        "Write a function that takes a number and returns:\n",
        "\n",
        "* `\"Even\"` if it’s even\n",
        "* `\"Odd\"` otherwise\n",
        "'''\n",
        "def check_even_odd(num):\n",
        "  if num % 2 == 0:\n",
        "    return \"Even\"\n",
        "  else:\n",
        "    return \"Odd\"\n",
        "\n",
        "num = int(input(\"Enter a number :- \"))\n",
        "print(check_even_odd(num))"
      ],
      "metadata": {
        "colab": {
          "base_uri": "https://localhost:8080/"
        },
        "id": "Vrf-PBbXfymz",
        "outputId": "295e15ef-cfa3-4f55-f079-1b73acc4fcab"
      },
      "execution_count": 1,
      "outputs": [
        {
          "output_type": "stream",
          "name": "stdout",
          "text": [
            "Enter a number :- 421\n",
            "Odd\n"
          ]
        }
      ]
    },
    {
      "cell_type": "markdown",
      "source": [
        "# ⚡ What is a Lambda Function?\n",
        "\n",
        "A **lambda function** is a **small anonymous function** (i.e., it has no name unless you assign it one) that you can use **inline** for simple tasks.\n",
        "\n",
        "---\n",
        "\n",
        "## 🧠 Syntax:\n",
        "\n",
        "```python\n",
        "lambda arguments: expression\n",
        "```\n",
        "\n",
        "* Can take any number of arguments\n",
        "* Can only have **one expression**\n",
        "* Returns the result automatically\n",
        "\n",
        "---\n",
        "\n",
        "## ✅ Basic Example:\n",
        "\n",
        "```python\n",
        "square = lambda x: x * x\n",
        "print(square(5))  # Output: 25\n",
        "```\n",
        "\n",
        "This is functionally the same as:\n",
        "\n",
        "```python\n",
        "def square(x):\n",
        "    return x * x\n",
        "```\n",
        "\n",
        "---\n",
        "\n",
        "## ✅ Multiple Arguments\n",
        "\n",
        "```python\n",
        "add = lambda a, b: a + b\n",
        "print(add(3, 7))   # Output: 10\n",
        "```\n",
        "\n",
        "---\n",
        "\n",
        "## 🔍 Use Cases in Real Code\n",
        "\n",
        "### 1️⃣ **Sorting with Custom Key**\n",
        "\n",
        "```python\n",
        "names = ['Suhas', 'Zara', 'Ali', 'Meera']\n",
        "names.sort(key=lambda x: len(x))   # Sort by length\n",
        "print(names)\n",
        "```\n",
        "\n",
        "---\n",
        "\n",
        "### 2️⃣ **Use with `map()`**\n",
        "\n",
        "Applies a function to each item in an iterable.\n",
        "\n",
        "```python\n",
        "nums = [1, 2, 3, 4, 5]\n",
        "squares = list(map(lambda x: x * x, nums))\n",
        "print(squares)  # [1, 4, 9, 16, 25]\n",
        "```\n",
        "\n",
        "---\n",
        "\n",
        "### 3️⃣ **Use with `filter()`**\n",
        "\n",
        "Filters items based on a condition.\n",
        "\n",
        "```python\n",
        "nums = [1, 2, 3, 4, 5, 6]\n",
        "even = list(filter(lambda x: x % 2 == 0, nums))\n",
        "print(even)  # [2, 4, 6]\n",
        "```\n",
        "\n",
        "---\n",
        "\n",
        "### 4️⃣ **Use with `reduce()`**\n",
        "\n",
        "*(Needs `functools` module)*\n",
        "\n",
        "```python\n",
        "from functools import reduce\n",
        "\n",
        "nums = [1, 2, 3, 4]\n",
        "product = reduce(lambda x, y: x * y, nums)\n",
        "print(product)  # Output: 24\n",
        "```\n",
        "\n",
        "---\n",
        "\n",
        "## 🔄 Lambda vs Def Function\n",
        "\n",
        "| Feature        | `lambda`                | `def`                        |\n",
        "| -------------- | ----------------------- | ---------------------------- |\n",
        "| Anonymous      | Yes                     | No                           |\n",
        "| One-line only  | Yes (1 expression only) | No (can have multiple lines) |\n",
        "| Return keyword | Not required            | Required                     |\n",
        "| Use case       | Short, quick tasks      | Larger, reusable logic       |\n",
        "\n",
        "---\n",
        "\n",
        "## ⚠️ When *Not* to Use Lambda\n",
        "\n",
        "* When the function has **multiple expressions**\n",
        "* When readability is more important\n",
        "* When debugging is a concern (no name = harder to trace)\n",
        "\n",
        "---"
      ],
      "metadata": {
        "id": "llnCy4qBgz28"
      }
    },
    {
      "cell_type": "markdown",
      "source": [
        "## 🧪 Practice Problems:\n"
      ],
      "metadata": {
        "id": "u3HP24NzhUwq"
      }
    },
    {
      "cell_type": "code",
      "source": [
        "# 1. Write a lambda to cube a number\n",
        "\n",
        "num = int(input(\"Enter a number :- \"))\n",
        "\n",
        "cube = lambda x : x**3\n",
        "print(f\"Cube of {num} = \",cube(num))"
      ],
      "metadata": {
        "colab": {
          "base_uri": "https://localhost:8080/"
        },
        "id": "x2JkNrnAgSMu",
        "outputId": "957e0168-4419-45ff-c70b-004c06358ba7"
      },
      "execution_count": 6,
      "outputs": [
        {
          "output_type": "stream",
          "name": "stdout",
          "text": [
            "Enter a number :- 9\n",
            "Cube of 9 =  729\n"
          ]
        }
      ]
    },
    {
      "cell_type": "code",
      "source": [
        "# 2. Filter out all names starting with ‘S’ from a list\n",
        "\n",
        "names = ['Suhas', 'Saniya', 'Zara', 'Ali', 'Meera']\n",
        "\n",
        "filtered_names = list(filter(lambda x: x[0] == 'S', names))\n",
        "\n",
        "print(filtered_names)"
      ],
      "metadata": {
        "colab": {
          "base_uri": "https://localhost:8080/"
        },
        "id": "ejR9fjjZhdSU",
        "outputId": "bf035369-28c0-4a18-8371-139d25f21f66"
      },
      "execution_count": 7,
      "outputs": [
        {
          "output_type": "stream",
          "name": "stdout",
          "text": [
            "['Suhas', 'Saniya']\n"
          ]
        }
      ]
    },
    {
      "cell_type": "code",
      "source": [
        "# 3. Use `map` + lambda to convert a list of Celsius to Fahrenheit\n",
        "\n",
        "temp_c = [31,28,25,39,21]\n",
        "\n",
        "temp_f = list(map(lambda x : (x*(9/5) +32 ), temp_c))\n",
        "\n",
        "print(temp_f)\n"
      ],
      "metadata": {
        "colab": {
          "base_uri": "https://localhost:8080/"
        },
        "id": "imKJl6PohdPi",
        "outputId": "0a2973d6-f031-4217-c124-3bbada101376"
      },
      "execution_count": 9,
      "outputs": [
        {
          "output_type": "stream",
          "name": "stdout",
          "text": [
            "[87.80000000000001, 82.4, 77.0, 102.2, 69.80000000000001]\n"
          ]
        }
      ]
    },
    {
      "cell_type": "code",
      "source": [
        "# 4. Sort a list of tuples by the **second element** using lambda\n",
        "\n",
        "data = [(1,5),(2,3),(4,7),(3,1),(9,6)]\n",
        "\n",
        "sorted_data = sorted(data, key = lambda x:x[1])\n",
        "\n",
        "print(sorted_data)"
      ],
      "metadata": {
        "colab": {
          "base_uri": "https://localhost:8080/"
        },
        "id": "0FBEvNPbhdJj",
        "outputId": "19cba83f-5f75-47a6-9311-7266518f0e87"
      },
      "execution_count": 10,
      "outputs": [
        {
          "output_type": "stream",
          "name": "stdout",
          "text": [
            "[(3, 1), (2, 3), (1, 5), (9, 6), (4, 7)]\n"
          ]
        }
      ]
    },
    {
      "cell_type": "code",
      "source": [
        "# 5. Use `reduce` to calculate sum of squares of a list\n",
        "from functools import reduce\n",
        "\n",
        "l1 = [1,2,3,4,5,6,7,8,9]\n",
        "\n",
        "squares = list(map(lambda x: x*x, l1))\n",
        "\n",
        "sum = reduce(lambda a,b: a+b, squares)\n",
        "\n",
        "print(sum)"
      ],
      "metadata": {
        "colab": {
          "base_uri": "https://localhost:8080/"
        },
        "id": "KPlyyC-Thme0",
        "outputId": "496cf235-7ab0-4868-e769-bb645d893ba9"
      },
      "execution_count": 12,
      "outputs": [
        {
          "output_type": "stream",
          "name": "stdout",
          "text": [
            "285\n"
          ]
        }
      ]
    },
    {
      "cell_type": "markdown",
      "source": [
        "# ⏫ **>> Problems**"
      ],
      "metadata": {
        "id": "Ib54IWi-lLdk"
      }
    },
    {
      "cell_type": "code",
      "source": [
        "# 1. Sum of Two Numbers (Function) :- Write a function add(a, b) that returns the sum of two numbers.\n",
        "\n",
        "def sum(n1,n2):\n",
        "  return n1+n2\n",
        "\n",
        "n1 = float(input(\"Enter first number :- \"))\n",
        "n2 = float(input(\"Enter Second number :- \"))\n",
        "\n",
        "print(sum(n1,n2))"
      ],
      "metadata": {
        "colab": {
          "base_uri": "https://localhost:8080/"
        },
        "id": "Qf2Kwe4Ikx7T",
        "outputId": "6458ad4e-3f01-466c-da24-3d9b9ad678af"
      },
      "execution_count": 13,
      "outputs": [
        {
          "output_type": "stream",
          "name": "stdout",
          "text": [
            "Enter first number :- 25\n",
            "Enter Second number :- 64\n",
            "89.0\n"
          ]
        }
      ]
    },
    {
      "cell_type": "code",
      "source": [
        "'''\n",
        "2. Factorial of a Number (Function)\n",
        "Write a function factorial(n) to return the factorial of n.\n",
        "Example: factorial(5) → 120\n",
        "'''\n",
        "def factorial(n):\n",
        "  if n == 0 or n == 1:\n",
        "    return 1\n",
        "  else:\n",
        "    return n* factorial(n-1)\n",
        "\n",
        "num = int(input(\"Enter a number :- \"))\n",
        "\n",
        "print(f\"{num}! = \",factorial(num))"
      ],
      "metadata": {
        "colab": {
          "base_uri": "https://localhost:8080/"
        },
        "id": "ooRyBZBTmBvz",
        "outputId": "8300ceef-830e-4b8f-a7d9-a7450a1f9fd9"
      },
      "execution_count": 14,
      "outputs": [
        {
          "output_type": "stream",
          "name": "stdout",
          "text": [
            "Enter a number :- 7\n",
            "7! =  5040\n"
          ]
        }
      ]
    },
    {
      "cell_type": "code",
      "source": [
        "'''\n",
        "3. Even or Odd (Lambda)\n",
        "Use a lambda function to check whether a number is even or odd.\n",
        "Example: even_odd = lambda x: \"Even\" if x % 2 == 0 else \"Odd\"\n",
        "'''\n",
        "num1 = int(input(\"Enter a number :- \"))\n",
        "\n",
        "check = lambda x: \"Even\" if (num1 % 2) == 0 else \"Odd\"\n",
        "\n",
        "print(check(num1))"
      ],
      "metadata": {
        "colab": {
          "base_uri": "https://localhost:8080/"
        },
        "id": "c3h2snMRnWSh",
        "outputId": "43d51622-3088-413c-972b-2e82b6e35bc4"
      },
      "execution_count": 15,
      "outputs": [
        {
          "output_type": "stream",
          "name": "stdout",
          "text": [
            "Enter a number :- 249\n",
            "Odd\n"
          ]
        }
      ]
    },
    {
      "cell_type": "code",
      "source": [
        "'''\n",
        "4. Maximum of Three Numbers (Function)\n",
        "Write a function maximum(a, b, c) that returns the largest of the three numbers.\n",
        "'''\n",
        "def max_of_three(n1,n2,n3):\n",
        "  if n1 > n2 and n1 > n3:\n",
        "    return n1\n",
        "  elif n2 > n1 and n2 > n3:\n",
        "    return n2\n",
        "  else:\n",
        "    return n3\n",
        "\n",
        "n1 = int(input(\"Enter first number :- \"))\n",
        "n2 = int(input(\"Enter second number :- \"))\n",
        "n3 = int(input(\"Enter third number :- \"))\n",
        "\n",
        "print(\"Maximum of three :- \", max_of_three(n1,n2,n3))"
      ],
      "metadata": {
        "colab": {
          "base_uri": "https://localhost:8080/"
        },
        "id": "OBzRqFYcn8ZV",
        "outputId": "cea1eefd-1801-4744-f493-9cce53b7fb52"
      },
      "execution_count": 16,
      "outputs": [
        {
          "output_type": "stream",
          "name": "stdout",
          "text": [
            "Enter first number :- 12\n",
            "Enter second number :- 15\n",
            "Enter third number :- 9\n",
            "Maximum of three :-  15\n"
          ]
        }
      ]
    },
    {
      "cell_type": "code",
      "source": [
        "'''\n",
        "5. Check Palindrome (Function)\n",
        "Write a function is_palindrome(s) that returns True if the string is a palindrome.\n",
        "Example: madam, level → True\n",
        "'''\n",
        "\n",
        "def check_palindrome(s):\n",
        "  rev_s = s[::-1]\n",
        "  if s == rev_s:\n",
        "    return True\n",
        "  else:\n",
        "    return False\n",
        "\n",
        "st = input(\"Enter a string :- \")\n",
        "print(check_palindrome(st))"
      ],
      "metadata": {
        "colab": {
          "base_uri": "https://localhost:8080/"
        },
        "id": "ELAzOtYepPH0",
        "outputId": "09e25e46-15ce-4d2e-aebd-a3cf34966127"
      },
      "execution_count": 18,
      "outputs": [
        {
          "output_type": "stream",
          "name": "stdout",
          "text": [
            "Enter a string :- madan\n",
            "False\n"
          ]
        }
      ]
    },
    {
      "cell_type": "code",
      "source": [
        "'''\n",
        "6. Filter Prime Numbers (Function + filter + Lambda)\n",
        "Write a function to check if a number is prime. Then use filter() + lambda to extract prime numbers from a list.\n",
        "'''\n",
        "def check_prime(nums):\n",
        "  prime_nums = list(filter(lambda x: all(x % y != 0 for y in range(2, x)), nums))\n",
        "  return prime_nums\n",
        "\n",
        "nums = [1,2,3,4,5,6,7,8,9,10,11,12,13]\n",
        "print(check_prime(nums))"
      ],
      "metadata": {
        "colab": {
          "base_uri": "https://localhost:8080/"
        },
        "id": "L7TWm9rmqlTq",
        "outputId": "2b34ded5-f5b1-4ccf-8e53-0ceaa18de7a5"
      },
      "execution_count": 19,
      "outputs": [
        {
          "output_type": "stream",
          "name": "stdout",
          "text": [
            "[1, 2, 3, 5, 7, 11, 13]\n"
          ]
        }
      ]
    },
    {
      "cell_type": "code",
      "source": [
        "'''\n",
        "7. Word Length Filter (Lambda + filter)\n",
        "Given a list of words, use a lambda function to filter only words with length > 4.\n",
        "'''\n",
        "\n",
        "words = ['at', 'the', 'there', 'hopeful', 'joy', 'machine']\n",
        "\n",
        "words.sort(key = lambda x:len(x))\n",
        "\n",
        "print(words)"
      ],
      "metadata": {
        "colab": {
          "base_uri": "https://localhost:8080/"
        },
        "id": "15p1B7jisZGw",
        "outputId": "452569da-6e5e-4ec6-f2c5-78be6b868686"
      },
      "execution_count": 23,
      "outputs": [
        {
          "output_type": "stream",
          "name": "stdout",
          "text": [
            "['at', 'the', 'joy', 'there', 'hopeful', 'machine']\n"
          ]
        }
      ]
    },
    {
      "cell_type": "code",
      "source": [
        "'''\n",
        "8. Count Vowels in a String (Function)\n",
        "Write a function that takes a string and returns the number of vowels (a, e, i, o, u) in it.\n",
        "'''\n",
        "\n",
        "\n",
        "def count_vowels(s):\n",
        "  count = 0\n",
        "  for char in s:\n",
        "    if char in 'aeiouAEIOU':\n",
        "      count += 1\n",
        "  return count\n",
        "\n",
        "string = input(\"Enter a string :- \")\n",
        "print(\"Count of vowels in string :- \", count_vowels(string))"
      ],
      "metadata": {
        "colab": {
          "base_uri": "https://localhost:8080/"
        },
        "id": "eH7jFEAAucJ5",
        "outputId": "0790a3d4-586b-4ed5-d033-0dfade0f6153"
      },
      "execution_count": 26,
      "outputs": [
        {
          "output_type": "stream",
          "name": "stdout",
          "text": [
            "Enter a string :- suhas\n",
            "Count of vowels in string :-  2\n"
          ]
        }
      ]
    },
    {
      "cell_type": "code",
      "source": [
        "'''\n",
        "10. Product of All Elements (Lambda + reduce)\n",
        "Use reduce() and lambda to find the product of all numbers in a list.\n",
        "(Hint: from functools import reduce)\n",
        "'''\n",
        "\n",
        "from functools import reduce\n",
        "nums = [1,2,3,4,5,6,7,8,9]\n",
        "\n",
        "product = reduce(lambda x,y: x*y, nums)\n",
        "\n",
        "print(product)"
      ],
      "metadata": {
        "colab": {
          "base_uri": "https://localhost:8080/"
        },
        "id": "nQs53118wWra",
        "outputId": "c96caacb-402c-4ef0-f2ff-9def73065a7e"
      },
      "execution_count": 27,
      "outputs": [
        {
          "output_type": "stream",
          "name": "stdout",
          "text": [
            "362880\n"
          ]
        }
      ]
    },
    {
      "cell_type": "code",
      "source": [],
      "metadata": {
        "id": "1oB6p5Fv0JCL"
      },
      "execution_count": null,
      "outputs": []
    }
  ]
}