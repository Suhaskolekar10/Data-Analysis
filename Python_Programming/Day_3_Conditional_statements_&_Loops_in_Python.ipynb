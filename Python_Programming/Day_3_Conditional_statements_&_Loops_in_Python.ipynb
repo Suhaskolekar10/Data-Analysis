{
  "nbformat": 4,
  "nbformat_minor": 0,
  "metadata": {
    "colab": {
      "provenance": []
    },
    "kernelspec": {
      "name": "python3",
      "display_name": "Python 3"
    },
    "language_info": {
      "name": "python"
    }
  },
  "cells": [
    {
      "cell_type": "markdown",
      "source": [
        "# **1. Conditional Statements in Python**\n",
        "\n",
        "Conditional statements let your code **make decisions** and **control the flow** based on conditions (true/false logic).\n",
        "\n",
        "---\n",
        "\n",
        "## 🧠 Why Use Them?\n",
        "- To **check conditions**\n",
        "- To **execute specific code** only when certain criteria are met  \n",
        "- Core to **logic building**, **data filtering**, **decision-making algorithms**\n",
        "\n",
        "---\n",
        "\n",
        "## 🔸 1. `if` Statement\n",
        "\n",
        "Executes a block **only if** the condition is `True`.\n",
        "\n",
        "```python\n",
        "age = 20\n",
        "\n",
        "if age >= 18:\n",
        "    print(\"You are eligible to vote.\")\n",
        "```\n",
        "\n",
        "---\n",
        "\n",
        "## 🔸 2. `if-else` Statement\n",
        "\n",
        "Choose between **two blocks**.\n",
        "\n",
        "```python\n",
        "marks = 65\n",
        "\n",
        "if marks >= 40:\n",
        "    print(\"You passed!\")\n",
        "else:\n",
        "    print(\"You failed.\")\n",
        "```\n",
        "\n",
        "---\n",
        "\n",
        "## 🔸 3. `if-elif-else` Chain\n",
        "\n",
        "Check **multiple conditions**.\n",
        "\n",
        "```python\n",
        "score = 87\n",
        "\n",
        "if score >= 90:\n",
        "    print(\"Grade: A\")\n",
        "elif score >= 80:\n",
        "    print(\"Grade: B\")\n",
        "elif score >= 70:\n",
        "    print(\"Grade: C\")\n",
        "else:\n",
        "    print(\"Grade: D\")\n",
        "```\n",
        "\n",
        "---\n",
        "\n",
        "## 🔸 4. Nested `if`\n",
        "\n",
        "Condition inside another condition.\n",
        "\n",
        "```python\n",
        "age = 25\n",
        "has_id = True\n",
        "\n",
        "if age >= 18:\n",
        "    if has_id:\n",
        "        print(\"Access granted.\")\n",
        "    else:\n",
        "        print(\"ID required.\")\n",
        "else:\n",
        "    print(\"Not allowed.\")\n",
        "```\n",
        "\n",
        "---\n",
        "\n",
        "## 🔸 5. Short-hand `if` (One-liner)\n",
        "\n",
        "```python\n",
        "x = 5\n",
        "print(\"Even\") if x % 2 == 0 else print(\"Odd\")\n",
        "```\n",
        "\n",
        "---\n",
        "\n",
        "## ✨ Real-world Example:\n",
        "\n",
        "```python\n",
        "income = 85000\n",
        "job = \"Data Analyst\"\n",
        "\n",
        "if income > 80000 and job == \"Data Analyst\":\n",
        "    print(\"You qualify for the premium credit card.\")\n",
        "else:\n",
        "    print(\"You do not qualify.\")\n",
        "```\n",
        "\n",
        "---\n"
      ],
      "metadata": {
        "id": "7NP6npg9UYGl"
      }
    },
    {
      "cell_type": "markdown",
      "source": [
        "\n",
        "## 🧪 Quick Challenge:\n",
        "\n",
        "Write a program to:\n",
        "- Take `temperature = 38`\n",
        "- If temp > 37.5 → Print “Fever”\n",
        "- If 36 < temp ≤ 37.5 → Print “Normal”\n",
        "- Else → Print “Low body temp”\n",
        "\n"
      ],
      "metadata": {
        "id": "u7bjDaaPUri5"
      }
    },
    {
      "cell_type": "code",
      "source": [
        "temp = float(input(\"Enter the temperature of the body: \"))\n",
        "\n",
        "if temp > 37.5:\n",
        "  print(\"Fever\")\n",
        "elif (temp >36) and (temp <= 37.5):\n",
        "  print(\"Normal\")\n",
        "else:\n",
        "  print(\"Low body temperature\")"
      ],
      "metadata": {
        "colab": {
          "base_uri": "https://localhost:8080/"
        },
        "id": "-kplDmjvUq2h",
        "outputId": "1c1b7db9-8e22-4318-85fa-13ae2e375bd8"
      },
      "execution_count": 2,
      "outputs": [
        {
          "output_type": "stream",
          "name": "stdout",
          "text": [
            "Enter the temperature of the body: 28\n",
            "Low body temperature\n"
          ]
        }
      ]
    },
    {
      "cell_type": "markdown",
      "source": [
        "# **2. Loops in Python**\n",
        "\n",
        "Loops are used to **repeat a block of code** multiple times. There are two main types:\n",
        "\n",
        "---\n",
        "\n",
        "## 🔸 1. `for` Loop (Definite Iteration)\n",
        "\n",
        "Used when you **know in advance** how many times to iterate (like over a list, range, string, etc.).\n",
        "\n",
        "### 🔹 Syntax:\n",
        "```python\n",
        "for variable in sequence:\n",
        "    # code block\n",
        "```\n",
        "\n",
        "### ✅ Examples:\n",
        "```python\n",
        "for i in range(5):       # 0 to 4\n",
        "    print(i)\n",
        "\n",
        "for char in \"Python\":\n",
        "    print(char)\n",
        "\n",
        "fruits = [\"apple\", \"banana\", \"mango\"]\n",
        "for fruit in fruits:\n",
        "    print(fruit)\n",
        "```\n",
        "\n",
        "---\n",
        "\n",
        "## 🔸 2. `while` Loop (Indefinite Iteration)\n",
        "\n",
        "Used when you **don’t know in advance** how many times you'll loop — you continue until a condition becomes false.\n",
        "\n",
        "### 🔹 Syntax:\n",
        "```python\n",
        "while condition:\n",
        "    # code block\n",
        "```\n",
        "\n",
        "### ✅ Example:\n",
        "```python\n",
        "count = 0\n",
        "while count < 5:\n",
        "    print(count)\n",
        "    count += 1\n",
        "```\n",
        "\n",
        "---\n",
        "\n",
        "## 🔸 3. `break` Statement\n",
        "\n",
        "Exits the loop immediately when a condition is met.\n",
        "\n",
        "```python\n",
        "for i in range(10):\n",
        "    if i == 5:\n",
        "        break\n",
        "    print(i)   # Prints 0 to 4\n",
        "```\n",
        "\n",
        "---\n",
        "\n",
        "## 🔸 4. `continue` Statement\n",
        "\n",
        "Skips the current iteration and moves to the next.\n",
        "\n",
        "```python\n",
        "for i in range(5):\n",
        "    if i == 2:\n",
        "        continue\n",
        "    print(i)   # Prints 0, 1, 3, 4\n",
        "```\n",
        "\n",
        "---\n",
        "\n",
        "## 🔸 5. `else` with Loops\n",
        "\n",
        "Runs **only if the loop finishes normally** (without `break`).\n",
        "\n",
        "```python\n",
        "for i in range(3):\n",
        "    print(i)\n",
        "else:\n",
        "    print(\"Loop completed!\")  # Will print\n",
        "```\n",
        "\n",
        "---\n",
        "\n",
        "## ✨ Real-World Example:\n",
        "\n",
        "### 🔍 Sum of even numbers from 1 to 20:\n",
        "```python\n",
        "total = 0\n",
        "for i in range(1, 21):\n",
        "    if i % 2 == 0:\n",
        "        total += i\n",
        "print(\"Sum of even numbers:\", total)\n",
        "```\n",
        "\n",
        "---\n",
        "\n",
        "## ⚠️ Infinite Loop Example (Be careful):\n",
        "```python\n",
        "while True:\n",
        "    print(\"This will run forever unless we break\")\n",
        "```\n",
        "---"
      ],
      "metadata": {
        "id": "pGLJJE_WWoj9"
      }
    },
    {
      "cell_type": "markdown",
      "source": [
        "## ✅ Problems :-"
      ],
      "metadata": {
        "id": "LCqUooalm8ow"
      }
    },
    {
      "cell_type": "code",
      "source": [
        " # 1. Take a number as input and print if it's even or odd.\n",
        "\n",
        "number = int(input(\"Enter a number :- \"))\n",
        "\n",
        "if number % 2 == 0:\n",
        "  print(f\"{number} is Even.\")\n",
        "else:\n",
        "  print(f\"{number} is Odd.\")"
      ],
      "metadata": {
        "colab": {
          "base_uri": "https://localhost:8080/"
        },
        "id": "oflG534JVe7y",
        "outputId": "261b6a71-99cb-4e1e-f61e-4b0b3fe3822c"
      },
      "execution_count": 4,
      "outputs": [
        {
          "output_type": "stream",
          "name": "stdout",
          "text": [
            "Enter a number :- 15\n",
            "15 is Odd.\n"
          ]
        }
      ]
    },
    {
      "cell_type": "code",
      "source": [
        "# 2. Write a program to check if a number is positive, negative, or zero.\n",
        "\n",
        "num = float(input(\"Enter a number:- \"))\n",
        "\n",
        "if num > 0:\n",
        "  print(f\"{num} is a positive number.\")\n",
        "elif num < 0:\n",
        "  print(f\"{num} is a negative number.\")\n",
        "else:\n",
        "  print(f\"{num} is zero.\")"
      ],
      "metadata": {
        "colab": {
          "base_uri": "https://localhost:8080/"
        },
        "id": "uZLi8XArn4Th",
        "outputId": "77dfc337-5f54-474d-d467-d9919382ee93"
      },
      "execution_count": 5,
      "outputs": [
        {
          "output_type": "stream",
          "name": "stdout",
          "text": [
            "Enter a number:- -25\n",
            "-25.0 is a negative number.\n"
          ]
        }
      ]
    },
    {
      "cell_type": "code",
      "source": [
        "'''3. Grading System :- Input marks (0 to 100) and print grade using:\n",
        "    A: 90–100\n",
        "    B: 80–89\n",
        "    C: 70–79\n",
        "    D: 60–69\n",
        "    F: < 60'''\n",
        "\n",
        "marks = int(input(\"Enter your marks between (0 -100):- \"))\n",
        "\n",
        "if (marks >= 90) and (marks <= 100):\n",
        "  print(\"Grade: A\")\n",
        "elif (marks >= 80) and (marks <= 89):\n",
        "  print(\"Grade: B\")\n",
        "elif (marks >= 70) and (marks <= 79):\n",
        "  print(\"Grade: C\")\n",
        "elif (marks >= 60) and (marks <= 69):\n",
        "  print(\"Grade: D\")\n",
        "else:\n",
        "  print(\"Grade: F\")"
      ],
      "metadata": {
        "colab": {
          "base_uri": "https://localhost:8080/"
        },
        "id": "9qoqdYfDo_tx",
        "outputId": "82d858d8-7827-4b3d-db13-d52979bea54a"
      },
      "execution_count": 6,
      "outputs": [
        {
          "output_type": "stream",
          "name": "stdout",
          "text": [
            "Enter your marks between (0 -100):- 68\n",
            "Grade: D\n"
          ]
        }
      ]
    },
    {
      "cell_type": "code",
      "source": [
        "'''\n",
        "4. Leap Year Checker\n",
        "Ask for a year and print whether it is a leap year or not.\n",
        "(Hint: A year is a leap year if it’s divisible by 4 and not 100 unless also divisible by 400)\n",
        "'''\n",
        "\n",
        "year = int(input(\"Enter a year:- \"))\n",
        "\n",
        "if (year % 4 == 0) and (year % 100 != 0 or year %400 == 0):\n",
        "  print(f\"{year} is a leap year.\")\n",
        "else:\n",
        "  print(f\"{year} is not a leap year.\")"
      ],
      "metadata": {
        "colab": {
          "base_uri": "https://localhost:8080/"
        },
        "id": "LxYF6DDEuVjg",
        "outputId": "723a2b4c-4529-4a12-e2c8-f37092b434e0"
      },
      "execution_count": 7,
      "outputs": [
        {
          "output_type": "stream",
          "name": "stdout",
          "text": [
            "Enter a year:- 2004\n",
            "2004 is a leap year.\n"
          ]
        }
      ]
    },
    {
      "cell_type": "code",
      "source": [
        "# 5. Take 3 numbers from user and print the largest using if-elif-else.\n",
        "\n",
        "n1 = int(input(\"Enter first number :- \"))\n",
        "n2 = int(input(\"Enter second number :- \"))\n",
        "n3 = int(input(\"Enter third number :- \"))\n",
        "\n",
        "if (n1 > n2)  and (n1 > n3):\n",
        "  print(f\"{n1} is the largest number.\")\n",
        "elif (n2 > n1) and (n2 > n3):\n",
        "  print(f\"{n2} is the largest number.\")\n",
        "else:\n",
        "  print(f\"{n3} is the largest number.\")"
      ],
      "metadata": {
        "colab": {
          "base_uri": "https://localhost:8080/"
        },
        "id": "kHi6TtTo2M8A",
        "outputId": "f1e71b58-88fe-4b2c-dcf6-33bf8f49b615"
      },
      "execution_count": 8,
      "outputs": [
        {
          "output_type": "stream",
          "name": "stdout",
          "text": [
            "Enter first number :- 45\n",
            "Enter second number :- 43\n",
            "Enter third number :- 47\n",
            "47 is the largest number.\n"
          ]
        }
      ]
    },
    {
      "cell_type": "code",
      "source": [
        "# 6. Sum of First N Natural Numbers :- Input n, and print the sum of numbers from 1 to n.\n",
        "\n",
        "n = int(input(\"Enter the number upto which you want sum :- \"))\n",
        "sum = 0\n",
        "\n",
        "for i in range(1,n+1):\n",
        "  sum += i\n",
        "\n",
        "print(f\"sum = {sum}\")"
      ],
      "metadata": {
        "colab": {
          "base_uri": "https://localhost:8080/"
        },
        "id": "J0P7eWyh3pF_",
        "outputId": "06dfed47-ccf4-4826-8737-f3e3eb242ae0"
      },
      "execution_count": 9,
      "outputs": [
        {
          "output_type": "stream",
          "name": "stdout",
          "text": [
            "Enter the number upto which you want sum :- 10\n",
            "sum = 55\n"
          ]
        }
      ]
    },
    {
      "cell_type": "code",
      "source": [
        "# 7. Factorial Calculator :- Input a number and print its factorial using a for or while loop.\n",
        "\n",
        "num = int(input(\"Enter a number :- \"))\n",
        "fact = 1\n",
        "\n",
        "for i in range(1,num+1):\n",
        "  fact = fact*i\n",
        "print(f\"{num}! = {fact}\")"
      ],
      "metadata": {
        "colab": {
          "base_uri": "https://localhost:8080/"
        },
        "id": "V1ZY16MP4fNs",
        "outputId": "20c57b9e-3781-451c-d5e7-827d88e006fb"
      },
      "execution_count": 10,
      "outputs": [
        {
          "output_type": "stream",
          "name": "stdout",
          "text": [
            "Enter a number :- 7\n",
            "7! = 5040\n"
          ]
        }
      ]
    },
    {
      "cell_type": "code",
      "source": [
        "# 8. Multiplication Table :- Take a number and print its multiplication table (1 to 10).\n",
        "\n",
        "n = int(input(\"Enter a number :- \"))\n",
        "\n",
        "for i in range(1,11):\n",
        "  print(f\"{n} * {i} = \", n*i)"
      ],
      "metadata": {
        "colab": {
          "base_uri": "https://localhost:8080/"
        },
        "id": "Cx2g-zuo5KB5",
        "outputId": "802ed20e-4b93-4a7b-888b-bc3cbb33c3f5"
      },
      "execution_count": 12,
      "outputs": [
        {
          "output_type": "stream",
          "name": "stdout",
          "text": [
            "Enter a number :- 13\n",
            "13 * 1 =  13\n",
            "13 * 2 =  26\n",
            "13 * 3 =  39\n",
            "13 * 4 =  52\n",
            "13 * 5 =  65\n",
            "13 * 6 =  78\n",
            "13 * 7 =  91\n",
            "13 * 8 =  104\n",
            "13 * 9 =  117\n",
            "13 * 10 =  130\n"
          ]
        }
      ]
    },
    {
      "cell_type": "code",
      "source": [
        "'''\n",
        "9. Reverse a Number\n",
        "Input: 1234\n",
        "Output: 4321\n",
        "(Use while loop to extract digits and rebuild number)'''\n",
        "\n",
        "# num = 1234\n",
        "# new_num = \"\"\n",
        "\n",
        "# while num > 0:\n",
        "#   a = num % 10\n",
        "#   num = num //10\n",
        "#   new_num = new_num + str(a)\n",
        "\n",
        "# new_num = int(new_num)\n",
        "\n",
        "# print(f\"Reverse of number = \",new_num)\n",
        "\n",
        "\n",
        "num = 1234\n",
        "rev = 0\n",
        "\n",
        "while num > 0:\n",
        "  rev = (rev * 10) + (num % 10)\n",
        "  num = num // 10\n",
        "\n",
        "print(\"Reverse of number :- \",rev)"
      ],
      "metadata": {
        "colab": {
          "base_uri": "https://localhost:8080/"
        },
        "id": "nDBvCeAn5sB4",
        "outputId": "a97a58ea-5c9a-454f-e6b8-8d854cd1e424"
      },
      "execution_count": 20,
      "outputs": [
        {
          "output_type": "stream",
          "name": "stdout",
          "text": [
            "Reverse of number :-  4321\n"
          ]
        }
      ]
    },
    {
      "cell_type": "code",
      "source": [
        "'''\n",
        "10. Count Vowels in a String\n",
        "\n",
        "Input: \"Data Science\"\n",
        "Output: 5 vowels\n",
        "(Use for loop and if char in \"aeiouAEIOU\")\n",
        "'''\n",
        "\n",
        "name = input(\"Enter a name :- \")\n",
        "count = 0\n",
        "\n",
        "for char in name:\n",
        "  if char in \"aeiouAEIOU\":\n",
        "    count += 1\n",
        "\n",
        "print(f\"Total number of vowels in {name} :- \", count)"
      ],
      "metadata": {
        "colab": {
          "base_uri": "https://localhost:8080/"
        },
        "id": "7KA_piex8Y3o",
        "outputId": "66af9bf7-6908-497f-cef6-d78479dab4a7"
      },
      "execution_count": 25,
      "outputs": [
        {
          "output_type": "stream",
          "name": "stdout",
          "text": [
            "Enter a name :- Data Science\n",
            "Total number of vowels in Data Science :-  5\n"
          ]
        }
      ]
    },
    {
      "cell_type": "code",
      "source": [],
      "metadata": {
        "id": "YqyaQUN1-6Ub"
      },
      "execution_count": null,
      "outputs": []
    }
  ]
}